{
 "cells": [
  {
   "cell_type": "markdown",
   "metadata": {},
   "source": [
    "# 1. request 모듈\n",
    "* HTTP request/response를 처리하는 모듈\n",
    "* https://docs.python-requests.org/"
   ]
  },
  {
   "cell_type": "markdown",
   "metadata": {},
   "source": [
    "### requests 모듈 import"
   ]
  },
  {
   "cell_type": "code",
   "execution_count": 1,
   "metadata": {},
   "outputs": [],
   "source": [
    "import requests"
   ]
  },
  {
   "cell_type": "code",
   "execution_count": 2,
   "metadata": {},
   "outputs": [
    {
     "data": {
      "text/plain": [
       "'2.24.0'"
      ]
     },
     "execution_count": 2,
     "metadata": {},
     "output_type": "execute_result"
    }
   ],
   "source": [
    "requests.__version__"
   ]
  },
  {
   "cell_type": "code",
   "execution_count": 3,
   "metadata": {},
   "outputs": [],
   "source": [
    "#pip install request --upgrade"
   ]
  },
  {
   "cell_type": "markdown",
   "metadata": {},
   "source": [
    "### get 방식으로 요청하기\n",
    "* naver 검색으로 get 방식 살펴보기\n",
    "* requests.get(url)\n",
    "* query parameters로 데이터 전달하기"
   ]
  },
  {
   "cell_type": "code",
   "execution_count": 4,
   "metadata": {},
   "outputs": [
    {
     "data": {
      "text/plain": [
       "<Response [200]>"
      ]
     },
     "execution_count": 4,
     "metadata": {},
     "output_type": "execute_result"
    }
   ],
   "source": [
    "url = 'http://httpbin.org/get'\n",
    "params = {\n",
    "    'key1' : 'value1',\n",
    "    'key2' : 'value2'\n",
    "}\n",
    "res = requests.get(url, params=params)\n",
    "res"
   ]
  },
  {
   "cell_type": "code",
   "execution_count": 5,
   "metadata": {},
   "outputs": [
    {
     "data": {
      "text/plain": [
       "200"
      ]
     },
     "execution_count": 5,
     "metadata": {},
     "output_type": "execute_result"
    }
   ],
   "source": [
    "res.status_code"
   ]
  },
  {
   "cell_type": "code",
   "execution_count": 17,
   "metadata": {},
   "outputs": [
    {
     "data": {
      "text/plain": [
       "{'Date': 'Thu, 12 Aug 2021 02:10:56 GMT', 'Content-Type': 'text/html; charset=UTF-8', 'Transfer-Encoding': 'chunked', 'Connection': 'keep-alive', 'Set-Cookie': 'page_uid=hefvKsp0Jy0ssgs76u8ssssssA0-399504; path=/; domain=.naver.com, _naver_usersession_=T6mDWLyoGE6tOwTWrCcalw==; path=/; expires=Thu, 12-Aug-21 02:15:56 GMT; domain=.naver.com, nx_ssl=2; Domain=.naver.com; Path=/; Expires=Sat, 11-Sep-2021 02:10:56 GMT;', 'X-Frame-Options': 'SAMEORIGIN', 'X-XSS-Protection': '1; report=/p/er/post/xss', 'Cache-Control': 'no-cache, no-store, must-revalidate, max-age=0', 'Pragma': 'no-cache', 'Vary': 'Accept-Encoding', 'Content-Encoding': 'gzip', 'Server': 'nxg'}"
      ]
     },
     "execution_count": 17,
     "metadata": {},
     "output_type": "execute_result"
    }
   ],
   "source": [
    "# 응답 헤더\n",
    "res.headers"
   ]
  },
  {
   "cell_type": "code",
   "execution_count": 18,
   "metadata": {},
   "outputs": [
    {
     "data": {
      "text/plain": [
       "{'User-Agent': 'python-requests/2.24.0', 'Accept-Encoding': 'gzip, deflate', 'Accept': '*/*', 'Connection': 'keep-alive'}"
      ]
     },
     "execution_count": 18,
     "metadata": {},
     "output_type": "execute_result"
    }
   ],
   "source": [
    "# 요청 헤더\n",
    "res.request.headers"
   ]
  },
  {
   "cell_type": "code",
   "execution_count": 7,
   "metadata": {},
   "outputs": [
    {
     "data": {
      "text/plain": [
       "'{\\n  \"args\": {\\n    \"key1\": \"value1\", \\n    \"key2\": \"value2\"\\n  }, \\n  \"headers\": {\\n    \"Accept\": \"*/*\", \\n    \"Accept-Encoding\": \"gzip, deflate\", \\n    \"Host\": \"httpbin.org\", \\n    \"User-Agent\": \"python-requests/2.24.0\", \\n    \"X-Amzn-Trace-Id\": \"Root=1-6114832f-5a4485ea52622143091e19c0\"\\n  }, \\n  \"origin\": \"175.119.219.40\", \\n  \"url\": \"http://httpbin.org/get?key1=value1&key2=value2\"\\n}\\n'"
      ]
     },
     "execution_count": 7,
     "metadata": {},
     "output_type": "execute_result"
    }
   ],
   "source": [
    "res.text"
   ]
  },
  {
   "cell_type": "code",
   "execution_count": 8,
   "metadata": {},
   "outputs": [
    {
     "data": {
      "text/plain": [
       "{'args': {'key1': 'value1', 'key2': 'value2'},\n",
       " 'headers': {'Accept': '*/*',\n",
       "  'Accept-Encoding': 'gzip, deflate',\n",
       "  'Host': 'httpbin.org',\n",
       "  'User-Agent': 'python-requests/2.24.0',\n",
       "  'X-Amzn-Trace-Id': 'Root=1-6114832f-5a4485ea52622143091e19c0'},\n",
       " 'origin': '175.119.219.40',\n",
       " 'url': 'http://httpbin.org/get?key1=value1&key2=value2'}"
      ]
     },
     "execution_count": 8,
     "metadata": {},
     "output_type": "execute_result"
    }
   ],
   "source": [
    "res.json()"
   ]
  },
  {
   "cell_type": "code",
   "execution_count": 9,
   "metadata": {},
   "outputs": [
    {
     "data": {
      "text/plain": [
       "dict"
      ]
     },
     "execution_count": 9,
     "metadata": {},
     "output_type": "execute_result"
    }
   ],
   "source": [
    "type(res.json())"
   ]
  },
  {
   "cell_type": "code",
   "execution_count": 10,
   "metadata": {},
   "outputs": [
    {
     "data": {
      "text/plain": [
       "'value1'"
      ]
     },
     "execution_count": 10,
     "metadata": {},
     "output_type": "execute_result"
    }
   ],
   "source": [
    "res.json()['args']['key1']"
   ]
  },
  {
   "cell_type": "markdown",
   "metadata": {},
   "source": [
    "### post 방식으로 요청하기\n",
    "* naver 로그인으로 post 방식 살펴보기\n",
    "* requests.post(url)\n",
    "* form data로 데이터 전달하기"
   ]
  },
  {
   "cell_type": "code",
   "execution_count": 11,
   "metadata": {},
   "outputs": [
    {
     "data": {
      "text/plain": [
       "<Response [200]>"
      ]
     },
     "execution_count": 11,
     "metadata": {},
     "output_type": "execute_result"
    }
   ],
   "source": [
    "url = 'http://httpbin.org/post'\n",
    "data = {\n",
    "    'id' : 'test',\n",
    "    'pwd' : 'testpwd'\n",
    "}\n",
    "res = requests.post(url, data=data)\n",
    "res"
   ]
  },
  {
   "cell_type": "code",
   "execution_count": 12,
   "metadata": {},
   "outputs": [
    {
     "data": {
      "text/plain": [
       "200"
      ]
     },
     "execution_count": 12,
     "metadata": {},
     "output_type": "execute_result"
    }
   ],
   "source": [
    "res.status_code"
   ]
  },
  {
   "cell_type": "code",
   "execution_count": 13,
   "metadata": {},
   "outputs": [
    {
     "data": {
      "text/plain": [
       "'{\\n  \"args\": {}, \\n  \"data\": \"\", \\n  \"files\": {}, \\n  \"form\": {\\n    \"id\": \"test\", \\n    \"pwd\": \"testpwd\"\\n  }, \\n  \"headers\": {\\n    \"Accept\": \"*/*\", \\n    \"Accept-Encoding\": \"gzip, deflate\", \\n    \"Content-Length\": \"19\", \\n    \"Content-Type\": \"application/x-www-form-urlencoded\", \\n    \"Host\": \"httpbin.org\", \\n    \"User-Agent\": \"python-requests/2.24.0\", \\n    \"X-Amzn-Trace-Id\": \"Root=1-6114832f-34a238533d4b01c75905de7c\"\\n  }, \\n  \"json\": null, \\n  \"origin\": \"175.119.219.40\", \\n  \"url\": \"http://httpbin.org/post\"\\n}\\n'"
      ]
     },
     "execution_count": 13,
     "metadata": {},
     "output_type": "execute_result"
    }
   ],
   "source": [
    "res.text"
   ]
  },
  {
   "cell_type": "code",
   "execution_count": 14,
   "metadata": {},
   "outputs": [
    {
     "data": {
      "text/plain": [
       "{'args': {},\n",
       " 'data': '',\n",
       " 'files': {},\n",
       " 'form': {'id': 'test', 'pwd': 'testpwd'},\n",
       " 'headers': {'Accept': '*/*',\n",
       "  'Accept-Encoding': 'gzip, deflate',\n",
       "  'Content-Length': '19',\n",
       "  'Content-Type': 'application/x-www-form-urlencoded',\n",
       "  'Host': 'httpbin.org',\n",
       "  'User-Agent': 'python-requests/2.24.0',\n",
       "  'X-Amzn-Trace-Id': 'Root=1-6114832f-34a238533d4b01c75905de7c'},\n",
       " 'json': None,\n",
       " 'origin': '175.119.219.40',\n",
       " 'url': 'http://httpbin.org/post'}"
      ]
     },
     "execution_count": 14,
     "metadata": {},
     "output_type": "execute_result"
    }
   ],
   "source": [
    "res.json()"
   ]
  },
  {
   "cell_type": "code",
   "execution_count": 15,
   "metadata": {},
   "outputs": [
    {
     "data": {
      "text/plain": [
       "<Response [200]>"
      ]
     },
     "execution_count": 15,
     "metadata": {},
     "output_type": "execute_result"
    }
   ],
   "source": [
    "url = 'https://search.naver.com/search.naver'\n",
    "params = {\n",
    "    'query' : '디미고'\n",
    "}\n",
    "res = requests.get(url, params=params)\n",
    "res"
   ]
  },
  {
   "cell_type": "code",
   "execution_count": 19,
   "metadata": {},
   "outputs": [
    {
     "data": {
      "text/plain": [
       "'<!doctype html> <html lang=\"ko\"> <head> <meta charset=\"utf-8\"> <meta name=\"referrer\" content=\"always\">  <meta name=\"format-detection\" content=\"telephone=no,address=no,email=no\"> <meta name=\"viewport\" content=\"width=device-width,initial-scale=1.0,maximum-scale=2.0\"> <meta property=\"og:title\" content=\"디미고 : 네이버 통합검색\"/> <meta property=\"og:image\" content=\"https://ssl.pstatic.net/sstatic/search/common/og_v3.png\"> <meta property=\"og:description\" content=\"\\'디미고\\'의 네이버 통합검색 결과입니다.\"> <meta name=\"description\" lang=\"ko\" content=\"\\'디미고\\'의 네이버 통합검색 결과입니다.\"> <title>디미고 : 네이버 통합검색</title> <link rel=\"shortcut icon\" href=\"https://ssl.pstatic.net/sstatic/search/favicon/favicon_191118_pc.ico\">  <link rel=\"search\" type=\"application/opensearchdescription+xml\" href=\"https://ssl.pstatic.net/sstatic/search/opensearch-description.https.xml\" title=\"Naver\" /><link rel=\"stylesheet\" type=\"text/css\" href=\"https://ssl.pstatic.net/sstatic/search/pc/css/search1_210805.css\"> <link rel=\"stylesheet\" type=\"text/css\" href=\"htt'"
      ]
     },
     "execution_count": 19,
     "metadata": {},
     "output_type": "execute_result"
    }
   ],
   "source": [
    "res.text[:1000]"
   ]
  },
  {
   "cell_type": "code",
   "execution_count": 20,
   "metadata": {},
   "outputs": [
    {
     "data": {
      "text/plain": [
       "<Response [200]>"
      ]
     },
     "execution_count": 20,
     "metadata": {},
     "output_type": "execute_result"
    }
   ],
   "source": [
    "# 네이버 기사 검색\n",
    "url = 'https://newsis.com/view/?id=NISX20210812_0001545803&cID=13005&pID=13100'\n",
    "\n",
    "res = requests.get(url)\n",
    "res"
   ]
  },
  {
   "cell_type": "code",
   "execution_count": 21,
   "metadata": {},
   "outputs": [
    {
     "data": {
      "text/plain": [
       "'<!DOCTYPE html>\\r\\n<html lang=\"ko\">\\r\\n<head>\\r\\n\\t<meta charset=\"utf-8\">\\r\\n\\t<meta name=\"viewport\" content=\"width=970\">\\r\\n\\t<meta http-equiv=\"X-UA-Compatible\" content=\"IE=Edge\" /> \\r\\n\\t<meta name=\"google-site-verification\" content=\"icDz6oxWxwp9SSur9h4ISnZKbIi12T4RkAD2UtEI_cw\" />\\r\\n\\t<meta name=\"naver-site-verification\" content=\"a41d14500de6ed44d227cd993106a7e8a1f2a081\"/>\\r\\n\\t<meta name=\"referrer\" content=\"unsafe-url\">\\r\\n\\t<meta property=\"fb:app_id\" content=\"\" /> \\r\\n\\t<meta property=\"og:title\" content=\"[갤럭시 언팩]Z시리즈, 톰브라운과 다시 손 잡았다\" />\\r\\n\\t<meta property=\"og:type\" content=\"website\" /> \\r\\n\\t<meta property=\"og:image\" content=\"http://image.newsis.com/2021/08/12/NISI20210812_0000806849_web.jpg\" /> \\r\\n\\t<meta property=\"og:site_name\" content=\"newsis\" /> \\r\\n\\t<meta property=\"og:url\" content=\"https://www.newsis.com/view/?id=NISX20210812_0001545803\" />\\r\\n\\t<meta property=\"article:section\" content=\"IT·바이오\" />\\r\\n\\t<meta property=\"article:section2\" content=\"모바일\" />\\r\\n\\t<meta property=\"article:published_time\" content=\"2021-08-12T00:1'"
      ]
     },
     "execution_count": 21,
     "metadata": {},
     "output_type": "execute_result"
    }
   ],
   "source": [
    "res.text[:1000]"
   ]
  },
  {
   "cell_type": "code",
   "execution_count": 22,
   "metadata": {},
   "outputs": [
    {
     "name": "stdout",
     "output_type": "stream",
     "text": [
      "<!DOCTYPE html>\n",
      "<html lang=\"ko\">\n",
      "<head>\n",
      "\t<meta charset=\"utf-8\">\n",
      "\t<meta name=\"viewport\" content=\"width=970\">\n",
      "\t<meta http-equiv=\"X-UA-Compatible\" content=\"IE=Edge\" /> \n",
      "\t<meta name=\"google-site-verification\" content=\"icDz6oxWxwp9SSur9h4ISnZKbIi12T4RkAD2UtEI_cw\" />\n",
      "\t<meta name=\"naver-site-verification\" content=\"a41d14500de6ed44d227cd993106a7e8a1f2a081\"/>\n",
      "\t<meta name=\"referrer\" content=\"unsafe-url\">\n",
      "\t<meta property=\"fb:app_id\" content=\"\" /> \n",
      "\t<meta property=\"og:title\" content=\"[갤럭시 언팩]Z시리즈, 톰브라운과 다시 손 잡았다\" />\n",
      "\t<meta property=\"og:type\" content=\"website\" /> \n",
      "\t<meta property=\"og:image\" content=\"http://image.newsis.com/2021/08/12/NISI20210812_0000806849_web.jpg\" /> \n",
      "\t<meta property=\"og:site_name\" content=\"newsis\" /> \n",
      "\t<meta property=\"og:url\" content=\"https://www.newsis.com/view/?id=NISX20210812_0001545803\" />\n",
      "\t<meta property=\"article:section\" content=\"IT·바이오\" />\n",
      "\t<meta property=\"article:section2\" content=\"모바일\" />\n",
      "\t<meta property=\"article:published_time\" content=\"2021-08-12T00:1\n"
     ]
    }
   ],
   "source": [
    "if res.status_code == requests.codes.ok:   #200\n",
    "    print(res.text[:1000])\n",
    "else:\n",
    "    print('error')"
   ]
  },
  {
   "cell_type": "code",
   "execution_count": null,
   "metadata": {},
   "outputs": [],
   "source": []
  }
 ],
 "metadata": {
  "kernelspec": {
   "display_name": "Python 3",
   "language": "python",
   "name": "python3"
  },
  "language_info": {
   "codemirror_mode": {
    "name": "ipython",
    "version": 3
   },
   "file_extension": ".py",
   "mimetype": "text/x-python",
   "name": "python",
   "nbconvert_exporter": "python",
   "pygments_lexer": "ipython3",
   "version": "3.8.5"
  }
 },
 "nbformat": 4,
 "nbformat_minor": 4
}
